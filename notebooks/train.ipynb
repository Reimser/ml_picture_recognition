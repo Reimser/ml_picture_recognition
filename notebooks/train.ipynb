{
 "cells": [
  {
   "cell_type": "markdown",
   "id": "238ef9ea",
   "metadata": {},
   "source": [
    "## 1. Import"
   ]
  },
  {
   "cell_type": "code",
   "execution_count": 8,
   "id": "58d6d800",
   "metadata": {},
   "outputs": [],
   "source": [
    "# 1. Bibliotheken importieren\n",
    "import torch\n",
    "import torch.nn as nn\n",
    "import torch.optim as optim\n",
    "from torch.utils.data import DataLoader, random_split\n",
    "from torchvision import transforms\n",
    "from model import HockeyActionModel   # Modell aus model.py\n",
    "from dataloader import HockeyDataset  # DataLoader aus dataloader.py\n",
    "import os \n",
    "import matplotlib.pyplot as plt\n",
    "from sklearn.metrics import f1_score"
   ]
  },
  {
   "cell_type": "markdown",
   "id": "0b539609",
   "metadata": {},
   "source": [
    "## 2. Device & Hyperparameter\n"
   ]
  },
  {
   "cell_type": "code",
   "execution_count": 9,
   "id": "c612d7a9",
   "metadata": {},
   "outputs": [
    {
     "name": "stdout",
     "output_type": "stream",
     "text": [
      "True\n",
      "NVIDIA RTX A5000 Laptop GPU\n"
     ]
    }
   ],
   "source": [
    "print(torch.cuda.is_available())\n",
    "print(torch.cuda.get_device_name(0))\n"
   ]
  },
  {
   "cell_type": "code",
   "execution_count": 10,
   "id": "6f16932e",
   "metadata": {},
   "outputs": [
    {
     "name": "stdout",
     "output_type": "stream",
     "text": [
      "Benutze Gerät: cuda\n"
     ]
    }
   ],
   "source": [
    "# 2. Device auswählen\n",
    "device = torch.device('cuda' if torch.cuda.is_available() else 'cpu')\n",
    "print(f\"Benutze Gerät: {device}\")"
   ]
  },
  {
   "cell_type": "code",
   "execution_count": 11,
   "id": "452aaa23",
   "metadata": {},
   "outputs": [],
   "source": [
    "# Konfiguration\n",
    "batch_size = 4\n",
    "num_epochs = 30\n",
    "frames_per_clip = 100"
   ]
  },
  {
   "cell_type": "markdown",
   "id": "3fd97cf6",
   "metadata": {},
   "source": [
    "## 3. Dataset & Dataloader"
   ]
  },
  {
   "cell_type": "code",
   "execution_count": 12,
   "id": "57f849c1",
   "metadata": {},
   "outputs": [],
   "source": [
    "# Trainings-Transform mit Augmentation (nur fürs Training)\n",
    "train_transform = transforms.Compose([\n",
    "    transforms.Resize((224, 224)),\n",
    "    transforms.RandomHorizontalFlip(),            # zufälliges Spiegeln\n",
    "    transforms.RandomRotation(degrees=5),         # leichte Drehung\n",
    "    transforms.ColorJitter(brightness=0.2, contrast=0.2),  # Farbabweichung\n",
    "    transforms.ToTensor(),\n",
    "    transforms.Normalize(mean=[0.485, 0.456, 0.406], std=[0.229, 0.224, 0.225])\n",
    "])\n",
    "\n",
    "# Val-Transform ohne Augmentation\n",
    "val_transform = transforms.Compose([\n",
    "    transforms.Resize((224, 224)),\n",
    "    transforms.ToTensor(),\n",
    "    transforms.Normalize(mean=[0.485, 0.456, 0.406], std=[0.229, 0.224, 0.225])\n",
    "])\n",
    "\n",
    "# Datensätze direkt aus fixen CSV-Dateien laden (zuvor erzeugt)\n",
    "train_dataset = HockeyDataset('labels_train.csv', 'frames', transform=train_transform, frames_per_clip=frames_per_clip)\n",
    "val_dataset   = HockeyDataset('labels_val.csv', 'frames', transform=val_transform, frames_per_clip=frames_per_clip)\n",
    "\n",
    "# Dataloader für Training und Validierung\n",
    "train_loader = DataLoader(train_dataset, batch_size=batch_size, shuffle=True, num_workers=0)\n",
    "val_loader   = DataLoader(val_dataset, batch_size=batch_size, shuffle=False, num_workers=0)\n"
   ]
  },
  {
   "cell_type": "markdown",
   "id": "cb5a0a35",
   "metadata": {},
   "source": [
    "## 4. Model + Loss + Optimizer "
   ]
  },
  {
   "cell_type": "code",
   "execution_count": 13,
   "id": "cd1239a1",
   "metadata": {},
   "outputs": [
    {
     "name": "stderr",
     "output_type": "stream",
     "text": [
      "c:\\Users\\hp\\anaconda3\\envs\\picture\\lib\\site-packages\\torchvision\\models\\_utils.py:208: UserWarning: The parameter 'pretrained' is deprecated since 0.13 and may be removed in the future, please use 'weights' instead.\n",
      "  warnings.warn(\n",
      "c:\\Users\\hp\\anaconda3\\envs\\picture\\lib\\site-packages\\torchvision\\models\\_utils.py:223: UserWarning: Arguments other than a weight enum or `None` for 'weights' are deprecated since 0.13 and may be removed in the future. The current behavior is equivalent to passing `weights=ResNet18_Weights.IMAGENET1K_V1`. You can also use `weights=ResNet18_Weights.DEFAULT` to get the most up-to-date weights.\n",
      "  warnings.warn(msg)\n",
      "c:\\Users\\hp\\anaconda3\\envs\\picture\\lib\\site-packages\\torch\\nn\\modules\\rnn.py:123: UserWarning: dropout option adds dropout after all but last recurrent layer, so non-zero dropout expects num_layers greater than 1, but got dropout=0.2 and num_layers=1\n",
      "  warnings.warn(\n"
     ]
    }
   ],
   "source": [
    "model = HockeyActionModel().to(device)                      # Modell auf GPU/CPU laden\n",
    "criterion = criterion = nn.BCEWithLogitsLoss()              # Verlustfunktion\n",
    "optimizer = torch.optim.Adam(model.parameters(), lr=0.001)  # Optimierer\n",
    "\n",
    "# Lernraten-Scheduler: reduziert LR, wenn val_loss stagniert\n",
    "scheduler = torch.optim.lr_scheduler.ReduceLROnPlateau(\n",
    "    optimizer, mode='min', factor=0.5, patience=2\n",
    ")\n"
   ]
  },
  {
   "cell_type": "markdown",
   "id": "e75b899b",
   "metadata": {},
   "source": [
    "## 5. Trainingsloop"
   ]
  },
  {
   "cell_type": "code",
   "execution_count": null,
   "id": "14f85389",
   "metadata": {},
   "outputs": [],
   "source": [
    "# Container für Trainings- und Validierungsverluste und F1-Scores\n",
    "train_losses = []\n",
    "val_losses = []\n",
    "train_f1_scores = []\n",
    "val_f1_scores = []"
   ]
  },
  {
   "cell_type": "code",
   "execution_count": null,
   "id": "4d801a52",
   "metadata": {},
   "outputs": [
    {
     "name": "stdout",
     "output_type": "stream",
     "text": [
      "Epoch 1: Train Loss 0.5475, F1 0.39 | Val Loss 0.5427, F1 0.46\n",
      "Epoch 2: Train Loss 0.4911, F1 0.49 | Val Loss 0.4782, F1 0.38\n",
      "Early Stopping Counter: 1/5\n",
      "Epoch 3: Train Loss 0.4436, F1 0.52 | Val Loss 0.5365, F1 0.43\n",
      "Early Stopping Counter: 2/5\n",
      "Epoch 4: Train Loss 0.3987, F1 0.56 | Val Loss 0.5156, F1 0.41\n",
      "Early Stopping Counter: 3/5\n",
      "Epoch 5: Train Loss 0.3960, F1 0.47 | Val Loss 0.5119, F1 0.48\n",
      "Epoch 6: Train Loss 0.3842, F1 0.55 | Val Loss 0.5925, F1 0.44\n",
      "Early Stopping Counter: 1/5\n",
      "Epoch 7: Train Loss 0.3731, F1 0.58 | Val Loss 0.4806, F1 0.48\n",
      "Epoch 8: Train Loss 0.3737, F1 0.67 | Val Loss 0.5489, F1 0.56\n",
      "Epoch 9: Train Loss 0.3525, F1 0.76 | Val Loss 0.4319, F1 0.63\n",
      "Epoch 10: Train Loss 0.3815, F1 0.68 | Val Loss 0.6557, F1 0.45\n",
      "Early Stopping Counter: 1/5\n",
      "Epoch 11: Train Loss 0.3423, F1 0.74 | Val Loss 0.5745, F1 0.55\n",
      "Early Stopping Counter: 2/5\n",
      "Epoch 12: Train Loss 0.2857, F1 0.81 | Val Loss 0.5874, F1 0.56\n",
      "Early Stopping Counter: 3/5\n",
      "Epoch 13: Train Loss 0.3268, F1 0.77 | Val Loss 0.6284, F1 0.49\n",
      "Early Stopping Counter: 4/5\n",
      "Epoch 14: Train Loss 0.3301, F1 0.75 | Val Loss 0.4653, F1 0.68\n",
      "Epoch 15: Train Loss 0.3124, F1 0.79 | Val Loss 0.5445, F1 0.60\n",
      "Early Stopping Counter: 1/5\n",
      "Epoch 16: Train Loss 0.2972, F1 0.77 | Val Loss 0.4609, F1 0.61\n",
      "Early Stopping Counter: 2/5\n",
      "Epoch 17: Train Loss 0.2755, F1 0.84 | Val Loss 0.5542, F1 0.66\n",
      "Early Stopping Counter: 3/5\n",
      "Epoch 18: Train Loss 0.2633, F1 0.82 | Val Loss 0.5976, F1 0.61\n",
      "Early Stopping Counter: 4/5\n",
      "Epoch 19: Train Loss 0.2353, F1 0.86 | Val Loss 0.4640, F1 0.63\n",
      "Early Stopping Counter: 5/5\n",
      "⏹️ Early stopping triggered.\n"
     ]
    }
   ],
   "source": [
    "best_val_f1 = 0\n",
    "early_stopping_counter = 0\n",
    "patience = 5  # für Early Stopping\n",
    "\n",
    "for epoch in range(num_epochs):\n",
    "    model.train()\n",
    "    running_loss = 0.0\n",
    "    all_preds, all_targets = [], []\n",
    "\n",
    "    for frames, labels in train_loader:\n",
    "        frames = frames.to(device)                     # Shape: [B, T, 3, 224, 224]\n",
    "        labels = labels.float().to(device)             # Multi-Label: [B, 4]\n",
    "\n",
    "        outputs = model(frames)                        # Output: [B, 4]\n",
    "        loss = criterion(outputs, labels)\n",
    "\n",
    "        optimizer.zero_grad()\n",
    "        loss.backward()\n",
    "        optimizer.step()\n",
    "\n",
    "        running_loss += loss.item()\n",
    "        all_preds.append((torch.sigmoid(outputs) > 0.5).cpu())\n",
    "        all_targets.append(labels.cpu())\n",
    "\n",
    "    train_loss = running_loss / len(train_loader)\n",
    "    train_f1 = f1_score(torch.cat(all_targets), torch.cat(all_preds), average=\"macro\", zero_division=0)\n",
    "\n",
    "    # speichern\n",
    "    train_losses.append(train_loss)\n",
    "    train_f1_scores.append(train_f1)\n",
    "\n",
    "    # Validierung\n",
    "    model.eval()\n",
    "    val_loss = 0.0\n",
    "    val_preds, val_targets = [], []\n",
    "\n",
    "    with torch.no_grad():\n",
    "        for frames, labels in val_loader:\n",
    "            frames = frames.to(device)\n",
    "            labels = labels.float().to(device)\n",
    "\n",
    "            outputs = model(frames)\n",
    "            loss = criterion(outputs, labels)\n",
    "\n",
    "            val_loss += loss.item()\n",
    "            val_preds.append((torch.sigmoid(outputs) > 0.5).cpu())\n",
    "            val_targets.append(labels.cpu())\n",
    "\n",
    "    val_loss /= len(val_loader)\n",
    "    val_f1 = f1_score(torch.cat(val_targets), torch.cat(val_preds), average=\"macro\", zero_division=0)\n",
    "\n",
    "    # speichern\n",
    "    val_losses.append(val_loss)\n",
    "    val_f1_scores.append(val_f1)\n",
    "\n",
    "    print(f\"Epoch {epoch+1}: Train Loss {train_loss:.4f}, F1 {train_f1:.2f} | Val Loss {val_loss:.4f}, F1 {val_f1:.2f}\")\n",
    "\n",
    "    # Early Stopping\n",
    "    if val_f1 > best_val_f1:\n",
    "        best_val_f1 = val_f1\n",
    "        early_stopping_counter = 0\n",
    "        torch.save(model.state_dict(), \"best_model.pth\")\n",
    "    else:\n",
    "        early_stopping_counter += 1\n",
    "        print(f\"Early Stopping Counter: {early_stopping_counter}/{patience}\")\n",
    "        if early_stopping_counter >= patience:\n",
    "            print(\"⏹️ Early stopping triggered.\")\n",
    "            break"
   ]
  },
  {
   "cell_type": "markdown",
   "id": "653277e1",
   "metadata": {},
   "source": [
    "## 6. Plot Training und Validation"
   ]
  },
  {
   "cell_type": "code",
   "execution_count": 16,
   "id": "0ef5e954",
   "metadata": {},
   "outputs": [
    {
     "data": {
      "image/png": "[encoded data removed]",
      "text/plain": [
       "<Figure size 1000x1000 with 8 Axes>"
      ]
     },
     "metadata": {},
     "output_type": "display_data"
    }
   ],
   "source": [
    "from sklearn.metrics import multilabel_confusion_matrix, ConfusionMatrixDisplay\n",
    "import matplotlib.pyplot as plt\n",
    "import torch\n",
    "import numpy as np\n",
    "\n",
    "# Klassen-Labels\n",
    "class_names = ['Check', 'Neutral', 'Schuss', 'Tor']\n",
    "\n",
    "model.eval()\n",
    "all_preds = []\n",
    "all_labels = []\n",
    "\n",
    "with torch.no_grad():\n",
    "    for frames, labels in val_loader:\n",
    "        frames = frames.to(device)\n",
    "        labels = labels.to(device)\n",
    "\n",
    "        outputs = model(frames)\n",
    "        predicted = (torch.sigmoid(outputs) > 0.5).int()\n",
    "\n",
    "        all_preds.append(predicted.cpu())\n",
    "        all_labels.append(labels.cpu().int())\n",
    "\n",
    "# Tensors stapeln\n",
    "all_preds = torch.cat(all_preds).numpy()  # Shape [N, 4]\n",
    "all_labels = torch.cat(all_labels).numpy()\n",
    "\n",
    "# Multilabel Confusion Matrix (eine 2x2-Matrix pro Klasse)\n",
    "mcm = multilabel_confusion_matrix(all_labels, all_preds)\n",
    "\n",
    "# Plot: jede Klasse einzeln anzeigen\n",
    "fig, axes = plt.subplots(2, 2, figsize=(10, 10))\n",
    "axes = axes.flatten()\n",
    "\n",
    "for i in range(len(class_names)):\n",
    "    ConfusionMatrixDisplay(\n",
    "        confusion_matrix=mcm[i],\n",
    "        display_labels=[f'not {class_names[i]}', class_names[i]]\n",
    "    ).plot(ax=axes[i], cmap='Blues', values_format='d')\n",
    "    axes[i].set_title(f\"Klasse: {class_names[i]}\")\n",
    "\n",
    "plt.tight_layout()\n",
    "plt.show()\n"
   ]
  },
  {
   "cell_type": "code",
   "execution_count": 18,
   "id": "3ca8773b",
   "metadata": {},
   "outputs": [
    {
     "name": "stdout",
     "output_type": "stream",
     "text": [
      "              precision    recall  f1-score   support\n",
      "\n",
      "       Check       0.33      0.36      0.35        11\n",
      "     Neutral       0.75      0.60      0.67        10\n",
      "      Schuss       0.71      0.75      0.73        20\n",
      "         Tor       0.88      0.70      0.78        10\n",
      "\n",
      "   micro avg       0.65      0.63      0.64        51\n",
      "   macro avg       0.67      0.60      0.63        51\n",
      "weighted avg       0.67      0.63      0.65        51\n",
      " samples avg       0.60      0.59      0.58        51\n",
      "\n"
     ]
    },
    {
     "name": "stderr",
     "output_type": "stream",
     "text": [
      "c:\\Users\\hp\\anaconda3\\envs\\picture\\lib\\site-packages\\sklearn\\metrics\\_classification.py:1565: UndefinedMetricWarning: Precision is ill-defined and being set to 0.0 in samples with no predicted labels. Use `zero_division` parameter to control this behavior.\n",
      "  _warn_prf(average, modifier, f\"{metric.capitalize()} is\", len(result))\n"
     ]
    }
   ],
   "source": [
    "from sklearn.metrics import classification_report\n",
    "print(classification_report(all_labels, all_preds, target_names=class_names))\n"
   ]
  },
  {
   "cell_type": "code",
   "execution_count": 19,
   "id": "734f7f2f",
   "metadata": {},
   "outputs": [
    {
     "ename": "NameError",
     "evalue": "name 'train_losses' is not defined",
     "output_type": "error",
     "traceback": [
      "\u001b[1;31m---------------------------------------------------------------------------\u001b[0m",
      "\u001b[1;31mNameError\u001b[0m                                 Traceback (most recent call last)",
      "Cell \u001b[1;32mIn[19], line 5\u001b[0m\n\u001b[0;32m      3\u001b[0m \u001b[38;5;66;03m# Loss-Verlauf\u001b[39;00m\n\u001b[0;32m      4\u001b[0m plt\u001b[38;5;241m.\u001b[39mfigure(figsize\u001b[38;5;241m=\u001b[39m(\u001b[38;5;241m8\u001b[39m, \u001b[38;5;241m4\u001b[39m))\n\u001b[1;32m----> 5\u001b[0m plt\u001b[38;5;241m.\u001b[39mplot(\u001b[43mtrain_losses\u001b[49m, label\u001b[38;5;241m=\u001b[39m\u001b[38;5;124m'\u001b[39m\u001b[38;5;124mTrain Loss\u001b[39m\u001b[38;5;124m'\u001b[39m)\n\u001b[0;32m      6\u001b[0m plt\u001b[38;5;241m.\u001b[39mplot(val_losses, label\u001b[38;5;241m=\u001b[39m\u001b[38;5;124m'\u001b[39m\u001b[38;5;124mVal Loss\u001b[39m\u001b[38;5;124m'\u001b[39m)\n\u001b[0;32m      7\u001b[0m plt\u001b[38;5;241m.\u001b[39mxlabel(\u001b[38;5;124m'\u001b[39m\u001b[38;5;124mEpoche\u001b[39m\u001b[38;5;124m'\u001b[39m)\n",
      "\u001b[1;31mNameError\u001b[0m: name 'train_losses' is not defined"
     ]
    },
    {
     "data": {
      "text/plain": [
       "<Figure size 800x400 with 0 Axes>"
      ]
     },
     "metadata": {},
     "output_type": "display_data"
    }
   ],
   "source": [
    "import matplotlib.pyplot as plt\n",
    "\n",
    "# Loss-Verlauf\n",
    "plt.figure(figsize=(8, 4))\n",
    "plt.plot(train_losses, label='Train Loss')\n",
    "plt.plot(val_losses, label='Val Loss')\n",
    "plt.xlabel('Epoche')\n",
    "plt.ylabel('Loss')\n",
    "plt.title('Loss pro Epoche')\n",
    "plt.legend()\n",
    "plt.grid(True)\n",
    "plt.tight_layout()\n",
    "plt.show()\n",
    "\n",
    "# F1-Verlauf (statt Accuracy)\n",
    "plt.figure(figsize=(8, 4))\n",
    "plt.plot(train_f1_scores, label='Train F1-Score')\n",
    "plt.plot(val_f1_scores, label='Val F1-Score')\n",
    "plt.xlabel('Epoche')\n",
    "plt.ylabel('F1-Score (Macro)')\n",
    "plt.title('F1-Score pro Epoche')\n",
    "plt.legend()\n",
    "plt.grid(True)\n",
    "plt.tight_layout()\n",
    "plt.show()\n"
   ]
  },
  {
   "cell_type": "code",
   "execution_count": null,
   "id": "7f28ecf2",
   "metadata": {},
   "outputs": [
    {
     "name": "stdout",
     "output_type": "stream",
     "text": [
      "label\n",
      "Schuss     64\n",
      "Tor        56\n",
      "Check      55\n",
      "Neutral    45\n",
      "Name: count, dtype: int64\n"
     ]
    }
   ],
   "source": [
    "import pandas as pd\n",
    "\n",
    "df = pd.read_csv('labels.csv')\n",
    "print(df['label'].value_counts())\n"
   ]
  },
  {
   "cell_type": "markdown",
   "id": "aaf84cf7",
   "metadata": {},
   "source": [
    "## 6. Modell speichern"
   ]
  },
  {
   "cell_type": "code",
   "execution_count": null,
   "id": "32eac8a2",
   "metadata": {},
   "outputs": [],
   "source": [
    "# os.makedirs('models', exist_ok=True)\n",
    "# torch.save(model.state_dict(), 'models/hockey_action_model.pth')\n",
    "# print(\"✅ Modell erfolgreich gespeichert.\")\n"
   ]
  },
  {
   "cell_type": "code",
   "execution_count": null,
   "id": "593525a4",
   "metadata": {},
   "outputs": [],
   "source": []
  }
 ],
 "metadata": {
  "kernelspec": {
   "display_name": "picture",
   "language": "python",
   "name": "python3"
  },
  "language_info": {
   "codemirror_mode": {
    "name": "ipython",
    "version": 3
   },
   "file_extension": ".py",
   "mimetype": "text/x-python",
   "name": "python",
   "nbconvert_exporter": "python",
   "pygments_lexer": "ipython3",
   "version": "3.9.21"
  }
 },
 "nbformat": 4,
 "nbformat_minor": 5
}
