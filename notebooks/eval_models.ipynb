{
 "cells": [
  {
   "cell_type": "code",
   "execution_count": 1,
   "id": "4a5e12b6",
   "metadata": {},
   "outputs": [
    {
     "name": "stdout",
     "output_type": "stream",
     "text": [
      "Aktuelles Arbeitsverzeichnis: c:\\Users\\hp\\OneDrive\\Desktop\\DBU\\wai81-ai-theory\\ml_picture_recognition\n"
     ]
    }
   ],
   "source": [
    "import os\n",
    "import sys\n",
    "if os.getcwd().endswith('notebooks'):\n",
    "    os.chdir('..')\n",
    "sys.path.insert(0, os.getcwd())\n",
    "print(f\"Aktuelles Arbeitsverzeichnis: {os.getcwd()}\")"
   ]
  },
  {
   "cell_type": "code",
   "execution_count": 2,
   "id": "26ec8abd",
   "metadata": {},
   "outputs": [
    {
     "name": "stdout",
     "output_type": "stream",
     "text": [
      "\n",
      "Predicting with ResNet18_LSTM...\n"
     ]
    },
    {
     "name": "stderr",
     "output_type": "stream",
     "text": [
      "c:\\Users\\hp\\anaconda3\\envs\\picture\\lib\\site-packages\\torchvision\\models\\_utils.py:208: UserWarning: The parameter 'pretrained' is deprecated since 0.13 and may be removed in the future, please use 'weights' instead.\n",
      "  warnings.warn(\n",
      "c:\\Users\\hp\\anaconda3\\envs\\picture\\lib\\site-packages\\torchvision\\models\\_utils.py:223: UserWarning: Arguments other than a weight enum or `None` for 'weights' are deprecated since 0.13 and may be removed in the future. The current behavior is equivalent to passing `weights=ResNet18_Weights.IMAGENET1K_V1`. You can also use `weights=ResNet18_Weights.DEFAULT` to get the most up-to-date weights.\n",
      "  warnings.warn(msg)\n",
      "c:\\Users\\hp\\anaconda3\\envs\\picture\\lib\\site-packages\\torch\\nn\\modules\\rnn.py:123: UserWarning: dropout option adds dropout after all but last recurrent layer, so non-zero dropout expects num_layers greater than 1, but got dropout=0.2 and num_layers=1\n",
      "  warnings.warn(\n",
      "C:\\Users\\hp\\AppData\\Local\\Temp\\ipykernel_8408\\3566072563.py:50: FutureWarning: You are using `torch.load` with `weights_only=False` (the current default value), which uses the default pickle module implicitly. It is possible to construct malicious pickle data which will execute arbitrary code during unpickling (See https://github.com/pytorch/pytorch/blob/main/SECURITY.md#untrusted-models for more details). In a future release, the default value for `weights_only` will be flipped to `True`. This limits the functions that could be executed during unpickling. Arbitrary objects will no longer be allowed to be loaded via this mode unless they are explicitly allowlisted by the user via `torch.serialization.add_safe_globals`. We recommend you start setting `weights_only=True` for any use case where you don't have full control of the loaded file. Please open an issue on GitHub for any issues related to this experimental feature.\n",
      "  model.load_state_dict(torch.load(model_paths[model_name], map_location=device), strict=False)\n"
     ]
    },
    {
     "name": "stdout",
     "output_type": "stream",
     "text": [
      "Prediction CSV saved as predictions_ResNet18_LSTM.csv\n",
      "\n",
      "Predicting with ResNet34_LSTM...\n"
     ]
    },
    {
     "name": "stderr",
     "output_type": "stream",
     "text": [
      "c:\\Users\\hp\\anaconda3\\envs\\picture\\lib\\site-packages\\torchvision\\models\\_utils.py:223: UserWarning: Arguments other than a weight enum or `None` for 'weights' are deprecated since 0.13 and may be removed in the future. The current behavior is equivalent to passing `weights=ResNet34_Weights.IMAGENET1K_V1`. You can also use `weights=ResNet34_Weights.DEFAULT` to get the most up-to-date weights.\n",
      "  warnings.warn(msg)\n"
     ]
    },
    {
     "name": "stdout",
     "output_type": "stream",
     "text": [
      "Prediction CSV saved as predictions_ResNet34_LSTM.csv\n",
      "\n",
      "Predicting with R3D18...\n"
     ]
    },
    {
     "name": "stderr",
     "output_type": "stream",
     "text": [
      "c:\\Users\\hp\\anaconda3\\envs\\picture\\lib\\site-packages\\torchvision\\models\\_utils.py:223: UserWarning: Arguments other than a weight enum or `None` for 'weights' are deprecated since 0.13 and may be removed in the future. The current behavior is equivalent to passing `weights=R3D_18_Weights.KINETICS400_V1`. You can also use `weights=R3D_18_Weights.DEFAULT` to get the most up-to-date weights.\n",
      "  warnings.warn(msg)\n"
     ]
    },
    {
     "name": "stdout",
     "output_type": "stream",
     "text": [
      "Prediction CSV saved as predictions_R3D18.csv\n"
     ]
    }
   ],
   "source": [
    "import torch\n",
    "from utils.model import HockeyActionModelResNet18, HockeyActionModelResNet34, R3D18Model\n",
    "from utils.dataloader import HockeyTestDataset\n",
    "from torch.utils.data import DataLoader\n",
    "import pandas as pd\n",
    "import os\n",
    "import numpy as np\n",
    "from torchvision import transforms\n",
    "from PIL import Image\n",
    "\n",
    "# --- Setup ---\n",
    "device = torch.device('cuda' if torch.cuda.is_available() else 'cpu')\n",
    "\n",
    "# --- Test-Daten laden ---\n",
    "test_dataset = HockeyTestDataset(\n",
    "    csv_file='data/labels_test.csv',\n",
    "    frames_root='data/test_frames/',\n",
    "    frames_per_clip=100\n",
    ")\n",
    "test_loader = DataLoader(test_dataset, batch_size=1, shuffle=False)\n",
    "\n",
    "# --- Modellpfade und Klassen ---\n",
    "model_paths = {\n",
    "    'ResNet18_LSTM': 'models/best_resnet18_lstm.pth',\n",
    "    'ResNet34_LSTM': 'models/best_resnet34_lstm.pth',\n",
    "    'R3D18': 'models/best_r3d18.pth'\n",
    "}\n",
    "\n",
    "model_classes = {\n",
    "    'ResNet18_LSTM': HockeyActionModelResNet18,\n",
    "    'ResNet34_LSTM': HockeyActionModelResNet34,\n",
    "    'R3D18': R3D18Model\n",
    "}\n",
    "\n",
    "# --- Evaluation ---\n",
    "for model_name in model_paths:\n",
    "    print(f\"\\nPredicting with {model_name}...\")\n",
    "\n",
    "    # Modell initialisieren mit passenden Parametern\n",
    "    if model_name == 'ResNet18_LSTM':\n",
    "        model = HockeyActionModelResNet18(embed_size=128, hidden_size=256, num_classes=4)\n",
    "    elif model_name == 'ResNet34_LSTM':\n",
    "        model = HockeyActionModelResNet34(num_classes=4)\n",
    "    elif model_name == 'R3D18':\n",
    "        model = R3D18Model(num_classes=4)\n",
    "    else:\n",
    "        raise ValueError(f\"Unbekanntes Modell: {model_name}\")\n",
    "\n",
    "    # Modellgewichte laden\n",
    "    model.load_state_dict(torch.load(model_paths[model_name], map_location=device), strict=False)\n",
    "    model = model.to(device)\n",
    "    model.eval()\n",
    "\n",
    "    results = []\n",
    "\n",
    "    with torch.no_grad():\n",
    "        for videos, clip_names in test_loader:\n",
    "            videos = videos.to(device)  # [B, T, 3, 224, 224]\n",
    "\n",
    "            # Spezielle Form für R3D18\n",
    "            if model_name == 'R3D18':\n",
    "                videos = videos.permute(0, 2, 1, 3, 4)  # [B, 3, T, 224, 224]\n",
    "\n",
    "            outputs = model(videos)\n",
    "            outputs = torch.sigmoid(outputs)\n",
    "            preds = (outputs > 0.5).cpu().numpy().astype(int)\n",
    "\n",
    "            for clip_name, pred in zip(clip_names, preds):\n",
    "                labels = []\n",
    "                if pred[0] == 1:\n",
    "                    labels.append('Check')\n",
    "                if pred[1] == 1:\n",
    "                    labels.append('Neutral')\n",
    "                if pred[2] == 1:\n",
    "                    labels.append('Schuss')\n",
    "                if pred[3] == 1:\n",
    "                    labels.append('Tor')\n",
    "\n",
    "                label_string = \",\".join(labels) if labels else \"None\"\n",
    "                results.append({\n",
    "                    'clip_name': clip_name,\n",
    "                    'predicted_labels': label_string\n",
    "                })\n",
    "\n",
    "    # Ergebnisse speichern\n",
    "    results_df = pd.DataFrame(results)\n",
    "    results_df.to_csv(f'predictions_{model_name}.csv', index=False)\n",
    "    print(f\"Prediction CSV saved as predictions_{model_name}.csv\")\n"
   ]
  },
  {
   "cell_type": "code",
   "execution_count": null,
   "id": "642084a6",
   "metadata": {},
   "outputs": [],
   "source": []
  }
 ],
 "metadata": {
  "kernelspec": {
   "display_name": "picture",
   "language": "python",
   "name": "python3"
  },
  "language_info": {
   "codemirror_mode": {
    "name": "ipython",
    "version": 3
   },
   "file_extension": ".py",
   "mimetype": "text/x-python",
   "name": "python",
   "nbconvert_exporter": "python",
   "pygments_lexer": "ipython3",
   "version": "3.9.21"
  }
 },
 "nbformat": 4,
 "nbformat_minor": 5
}
