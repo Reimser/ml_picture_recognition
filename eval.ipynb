{
 "cells": [
  {
   "cell_type": "code",
   "execution_count": null,
   "id": "314c31a8",
   "metadata": {},
   "outputs": [],
   "source": [
    "# 1. Bibliotheken importieren\n",
    "import torch\n",
    "from torchvision import transforms\n",
    "from model import HockeyActionModel\n",
    "from dataloader import HockeyDataset\n",
    "from torch.utils.data import DataLoader\n",
    "\n",
    "# 2. Device wählen\n",
    "device = torch.device('cuda' if torch.cuda.is_available() else 'cpu')\n",
    "print(f\"Benutze Gerät: {device}\")\n",
    "\n",
    "# 3. Modell vorbereiten\n",
    "num_classes = 4\n",
    "model = HockeyActionModel(num_classes=num_classes)\n",
    "model.load_state_dict(torch.load('models/hockey_action_model.pth', map_location=device))\n",
    "model = model.to(device)\n",
    "model.eval()\n",
    "print(\"✅ Modell geladen und in Evaluationsmodus gesetzt.\")\n",
    "\n",
    "# 4. Transformationen definieren\n",
    "transform = transforms.Compose([\n",
    "    transforms.Resize((224, 224)),\n",
    "    transforms.ToTensor()\n",
    "])\n",
    "\n",
    "# 5. Testdaten vorbereiten\n",
    "# Hier kannst du z.B. neue Clips unter \"frames_test/\" speichern\n",
    "test_dataset = HockeyDataset('labels.csv', 'frames', transform=transform, frames_per_clip=10)\n",
    "test_loader = DataLoader(test_dataset, batch_size=1, shuffle=False)\n",
    "\n",
    "# 6. Vorhersagen machen\n",
    "label_map_reverse = {0: 'Check', 1: 'Neutral', 2: 'Schuss', 3: 'Tor'}\n",
    "\n",
    "with torch.no_grad():\n",
    "    for frames, labels in test_loader:\n",
    "        frames = torch.stack(frames).to(device)  # (Batch=1, 10, 3, 224, 224)\n",
    "\n",
    "        outputs = model(frames)\n",
    "        _, predicted = torch.max(outputs, 1)\n",
    "\n",
    "        prediction = label_map_reverse[predicted.item()]\n",
    "        print(f\"✅ Vorhersage: {prediction}\")\n",
    "\n",
    "        break  # Nur 1 Beispiel anzeigen (kannst du rausnehmen für alle)\n",
    "\n"
   ]
  }
 ],
 "metadata": {
  "language_info": {
   "name": "python"
  }
 },
 "nbformat": 4,
 "nbformat_minor": 5
}
