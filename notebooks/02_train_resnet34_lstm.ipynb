{
 "cells": [
  {
   "cell_type": "markdown",
   "id": "baaa93e3",
   "metadata": {},
   "source": [
    "## Import"
   ]
  },
  {
   "cell_type": "code",
   "execution_count": null,
   "id": "2cec319c",
   "metadata": {},
   "outputs": [
    {
     "name": "stdout",
     "output_type": "stream",
     "text": [
      "Aktuelles Arbeitsverzeichnis: c:\\Users\\hp\\OneDrive\\Desktop\\DBU\\wai81-ai-theory\\ml_picture_recognition\n"
     ]
    }
   ],
   "source": [
    "import os\n",
    "import sys\n",
    "# Arbeisvezeichnis setzen\n",
    "if os.getcwd().endswith('notebooks'):\n",
    "    os.chdir('..')\n",
    "sys.path.insert(0, os.getcwd())\n",
    "print(f\"Aktuelles Arbeitsverzeichnis: {os.getcwd()}\")\n",
    "\n",
    "import torch\n",
    "import torch.nn as nn\n",
    "import torch.optim as optim\n",
    "from torch.utils.data import DataLoader\n",
    "from utils.dataloader import HockeyDataset\n",
    "from utils.transforms import train_transform, val_transform\n",
    "from utils.model import HockeyActionModelResNet34\n",
    "\n",
    "from sklearn.metrics import multilabel_confusion_matrix, ConfusionMatrixDisplay, classification_report, f1_score, confusion_matrix\n",
    "import matplotlib.pyplot as plt\n",
    "import numpy as np\n",
    "import random\n"
   ]
  },
  {
   "cell_type": "markdown",
   "id": "9e0cf9b3",
   "metadata": {},
   "source": [
    "Parameter\n"
   ]
  },
  {
   "cell_type": "code",
   "execution_count": 3,
   "id": "f68f9bbe",
   "metadata": {},
   "outputs": [],
   "source": [
    "BATCH_SIZE = 8\n",
    "NUM_WORKERS = 4\n",
    "NUM_CLASSES = 4              # 4 Labels: Check, Neutral, Schuss, Tor\n",
    "HIDDEN_DIM = 256\n",
    "LEARNING_RATE = 1e-4\n",
    "EPOCHS = 30\n",
    "frames_per_clip = 100"
   ]
  },
  {
   "cell_type": "code",
   "execution_count": 4,
   "id": "0e3f492c",
   "metadata": {},
   "outputs": [],
   "source": [
    "def set_seed(seed=42):\n",
    "    random.seed(seed)\n",
    "    np.random.seed(seed)\n",
    "    torch.manual_seed(seed)\n",
    "    torch.cuda.manual_seed_all(seed)\n",
    "    torch.backends.cudnn.deterministic = True\n",
    "    torch.backends.cudnn.benchmark = False\n",
    "\n",
    "set_seed(42)\n"
   ]
  },
  {
   "cell_type": "markdown",
   "id": "ca8d450c",
   "metadata": {},
   "source": [
    "## Dataset und Dataloader"
   ]
  },
  {
   "cell_type": "code",
   "execution_count": 5,
   "id": "862a5588",
   "metadata": {},
   "outputs": [],
   "source": [
    "# --- Dataset & DataLoader ---\n",
    "train_dataset = HockeyDataset('data/labels_train.csv', 'data/train_frames', transform=train_transform, frames_per_clip=frames_per_clip)\n",
    "val_dataset   = HockeyDataset('data/labels_val.csv', 'data/train_frames', transform=val_transform, frames_per_clip=frames_per_clip)\n",
    "\n",
    "\n",
    "train_loader = DataLoader(train_dataset, batch_size=BATCH_SIZE, shuffle=True, num_workers=NUM_WORKERS)\n",
    "val_loader = DataLoader(val_dataset, batch_size=BATCH_SIZE, shuffle=False, num_workers=NUM_WORKERS)\n"
   ]
  },
  {
   "cell_type": "markdown",
   "id": "da17d483",
   "metadata": {},
   "source": [
    "## Model"
   ]
  },
  {
   "cell_type": "code",
   "execution_count": null,
   "id": "452787ae",
   "metadata": {},
   "outputs": [
    {
     "name": "stderr",
     "output_type": "stream",
     "text": [
      "c:\\Users\\hp\\anaconda3\\envs\\picture\\lib\\site-packages\\torchvision\\models\\_utils.py:208: UserWarning: The parameter 'pretrained' is deprecated since 0.13 and may be removed in the future, please use 'weights' instead.\n",
      "  warnings.warn(\n",
      "c:\\Users\\hp\\anaconda3\\envs\\picture\\lib\\site-packages\\torchvision\\models\\_utils.py:223: UserWarning: Arguments other than a weight enum or `None` for 'weights' are deprecated since 0.13 and may be removed in the future. The current behavior is equivalent to passing `weights=ResNet34_Weights.IMAGENET1K_V1`. You can also use `weights=ResNet34_Weights.DEFAULT` to get the most up-to-date weights.\n",
      "  warnings.warn(msg)\n",
      "c:\\Users\\hp\\anaconda3\\envs\\picture\\lib\\site-packages\\torch\\nn\\modules\\rnn.py:123: UserWarning: dropout option adds dropout after all but last recurrent layer, so non-zero dropout expects num_layers greater than 1, but got dropout=0.2 and num_layers=1\n",
      "  warnings.warn(\n"
     ]
    }
   ],
   "source": [
    "# Modell\n",
    "device = torch.device('cuda' if torch.cuda.is_available() else 'cpu')\n",
    "model = HockeyActionModelResNet34(embed_size=256, hidden_size=256, num_classes=4, num_layers=1)\n",
    "model = model.to(device)\n",
    "# Loss & Optimizer\n",
    "criterion = torch.nn.BCEWithLogitsLoss()\n",
    "optimizer = optim.Adam(model.parameters(), lr=LEARNING_RATE)"
   ]
  },
  {
   "cell_type": "code",
   "execution_count": null,
   "id": "3fc52f03",
   "metadata": {},
   "outputs": [
    {
     "name": "stdout",
     "output_type": "stream",
     "text": [
      "Epoch 1: Train Loss 0.6412, F1 0.21 | Val Loss 0.5857, F1 0.17\n",
      "Epoch 2: Train Loss 0.5042, F1 0.36 | Val Loss 0.4887, F1 0.38\n",
      "Epoch 3: Train Loss 0.3820, F1 0.58 | Val Loss 0.4771, F1 0.49\n",
      "Epoch 4: Train Loss 0.3058, F1 0.83 | Val Loss 0.4516, F1 0.60\n",
      "Epoch 5: Train Loss 0.2456, F1 0.88 | Val Loss 0.5203, F1 0.54\n",
      "Early Stopping Counter: 1/5\n",
      "Epoch 6: Train Loss 0.1886, F1 0.93 | Val Loss 0.3571, F1 0.73\n",
      "Epoch 7: Train Loss 0.1584, F1 0.93 | Val Loss 0.2925, F1 0.80\n",
      "Epoch 8: Train Loss 0.1339, F1 0.94 | Val Loss 0.3694, F1 0.72\n",
      "Early Stopping Counter: 1/5\n",
      "Epoch 9: Train Loss 0.0893, F1 0.97 | Val Loss 0.4230, F1 0.70\n",
      "Early Stopping Counter: 2/5\n",
      "Epoch 10: Train Loss 0.0785, F1 0.98 | Val Loss 0.4805, F1 0.68\n",
      "Early Stopping Counter: 3/5\n",
      "Epoch 11: Train Loss 0.0975, F1 0.94 | Val Loss 0.3567, F1 0.76\n",
      "Early Stopping Counter: 4/5\n",
      "Epoch 12: Train Loss 0.0931, F1 0.95 | Val Loss 0.6446, F1 0.68\n",
      "Early Stopping Counter: 5/5\n",
      "⏹️ Early stopping triggered at epoch 12. Best epoch: 7\n"
     ]
    }
   ],
   "source": [
    "# Vorbereiten\n",
    "best_val_f1 = 0                          # Beste bisher erreichte Validierungs-F1\n",
    "best_epoch = 0                           # Merkt sich, in welcher Epoche das beste Modell war\n",
    "early_stopping_counter = 0              # Zähler für Abbruchbedingung\n",
    "patience = 5                             # Warten, wie viele Epochen ohne Verbesserung\n",
    "\n",
    "train_losses = []                       # Verlauf Trainingsloss pro Epoche\n",
    "train_f1_scores = []                    # Verlauf Trainings-F1 pro Epoche\n",
    "val_losses = []                         # Verlauf Validierungs-Loss pro Epoche\n",
    "val_f1_scores = []                      # Verlauf Validierungs-F1 pro Epoche\n",
    "\n",
    "# Training vorbereiten\n",
    "for epoch in range(EPOCHS):\n",
    "    model.train()                       # Modell in Trainingsmodus setzen (aktiviert z. B. Dropout)\n",
    "    running_loss = 0.0\n",
    "    all_preds, all_targets = [], []    # Für spätere F1-Berechnung (alle Batches sammeln)\n",
    "\n",
    "    for frames, labels in train_loader:\n",
    "        frames = frames.to(device)                      # Eingabedaten auf GPU/CPU verschieben\n",
    "        labels = labels.float().to(device)              # Labels ebenfalls auf Gerät (als Float wegen BCE)\n",
    "\n",
    "        outputs = model(frames)                         # Vorwärtspass durch das Modell → Logits [B, 4]\n",
    "        loss = criterion(outputs, labels)               # Multi-Label Loss (z. B. BCEWithLogitsLoss)\n",
    "\n",
    "        optimizer.zero_grad()                           # Gradienten nullsetzen\n",
    "        loss.backward()                                 # Backpropagation – Gradienten berechnen\n",
    "        optimizer.step()                                # Parameter aktualisieren\n",
    "\n",
    "        running_loss += loss.item()                     # Loss aufsummieren für Durchschnitt\n",
    "        preds = (torch.sigmoid(outputs) > 0.5).float()  # Logits in Wahrscheinlichkeiten + Schwelle zu 0/1\n",
    "        all_preds.append(preds.detach().cpu())          # detach() → keine Gradienten, auf CPU verschieben\n",
    "        all_targets.append(labels.detach().cpu())       # Targets ebenfalls zur CPU\n",
    "\n",
    "    # Durchschnittlicher Trainingsloss\n",
    "    train_loss = running_loss / len(train_loader)\n",
    "\n",
    "    # F1-Score über gesamten Trainingssatz (macro = Durchschnitt über Klassen)\n",
    "    train_f1 = f1_score(torch.cat(all_targets), torch.cat(all_preds), average=\"macro\", zero_division=0)\n",
    "\n",
    "    # Logging für spätere Analyse oder Plotting\n",
    "    train_losses.append(train_loss)\n",
    "    train_f1_scores.append(train_f1)\n",
    "\n",
    "    # Validierung\n",
    "    model.eval()                          # Deaktiviert z. B. Dropout\n",
    "    val_loss = 0.0\n",
    "    val_preds, val_targets = [], []\n",
    "\n",
    "    with torch.no_grad():                # Kein Gradienten-Tracking notwendig (spart Speicher)\n",
    "        for frames, labels in val_loader:\n",
    "            frames = frames.to(device)\n",
    "            labels = labels.float().to(device)\n",
    "\n",
    "            outputs = model(frames)                          # Forward-Pass\n",
    "            loss = criterion(outputs, labels)                # Loss auf Validation Set berechnen\n",
    "\n",
    "            val_loss += loss.item()\n",
    "            preds = (torch.sigmoid(outputs) > 0.5).float()   # Schwelle: 0.5 → binäre Klassenentscheidung\n",
    "            val_preds.append(preds.detach().cpu())\n",
    "            val_targets.append(labels.detach().cpu())\n",
    "\n",
    "    val_loss /= len(val_loader)  # Durchschnittlicher Validation Loss\n",
    "    val_f1 = f1_score(torch.cat(val_targets), torch.cat(val_preds), average=\"macro\", zero_division=0)\n",
    "\n",
    "    val_losses.append(val_loss)\n",
    "    val_f1_scores.append(val_f1)\n",
    "\n",
    "    # Fortschritt ausgeben\n",
    "    print(f\"Epoch {epoch+1}: Train Loss {train_loss:.4f}, F1 {train_f1:.2f} | Val Loss {val_loss:.4f}, F1 {val_f1:.2f}\")\n",
    "\n",
    "    # Early Stopping\n",
    "    if val_f1 > best_val_f1:\n",
    "        best_val_f1 = val_f1                         # Neuen Bestwert merken\n",
    "        best_epoch = epoch + 1                       # Beste Epoche speichern\n",
    "        early_stopping_counter = 0                   # Zähler zurücksetzen\n",
    "        torch.save(model.state_dict(), 'models/best_resnet34_lstm.pth')  # Modell speichern\n",
    "    else:\n",
    "        early_stopping_counter += 1\n",
    "        print(f\"Early Stopping Counter: {early_stopping_counter}/{patience}\")\n",
    "        if early_stopping_counter >= patience:\n",
    "            print(f\"⏹️ Early stopping triggered at epoch {epoch+1}. Best epoch: {best_epoch}\")\n",
    "            break\n"
   ]
  },
  {
   "cell_type": "code",
   "execution_count": null,
   "id": "4a63c97f",
   "metadata": {},
   "outputs": [
    {
     "ename": "RuntimeError",
     "evalue": "CUDA error: unspecified launch failure\nCUDA kernel errors might be asynchronously reported at some other API call, so the stacktrace below might be incorrect.\nFor debugging consider passing CUDA_LAUNCH_BLOCKING=1\nCompile with `TORCH_USE_CUDA_DSA` to enable device-side assertions.\n",
     "output_type": "error",
     "traceback": [
      "\u001b[1;31m---------------------------------------------------------------------------\u001b[0m",
      "\u001b[1;31mRuntimeError\u001b[0m                              Traceback (most recent call last)",
      "Cell \u001b[1;32mIn[9], line 21\u001b[0m\n\u001b[0;32m     18\u001b[0m         outputs \u001b[38;5;241m=\u001b[39m model(frames)\n\u001b[0;32m     19\u001b[0m         predicted \u001b[38;5;241m=\u001b[39m (torch\u001b[38;5;241m.\u001b[39msigmoid(outputs) \u001b[38;5;241m>\u001b[39m \u001b[38;5;241m0.5\u001b[39m)\u001b[38;5;241m.\u001b[39mint()\n\u001b[1;32m---> 21\u001b[0m         all_preds\u001b[38;5;241m.\u001b[39mappend(\u001b[43mpredicted\u001b[49m\u001b[38;5;241;43m.\u001b[39;49m\u001b[43mcpu\u001b[49m\u001b[43m(\u001b[49m\u001b[43m)\u001b[49m)\n\u001b[0;32m     22\u001b[0m         all_labels\u001b[38;5;241m.\u001b[39mappend(labels\u001b[38;5;241m.\u001b[39mcpu()\u001b[38;5;241m.\u001b[39mint())\n\u001b[0;32m     24\u001b[0m \u001b[38;5;66;03m# Tensors stapeln\u001b[39;00m\n",
      "\u001b[1;31mRuntimeError\u001b[0m: CUDA error: unspecified launch failure\nCUDA kernel errors might be asynchronously reported at some other API call, so the stacktrace below might be incorrect.\nFor debugging consider passing CUDA_LAUNCH_BLOCKING=1\nCompile with `TORCH_USE_CUDA_DSA` to enable device-side assertions.\n"
     ]
    }
   ],
   "source": [
    "# Klassen-Labels\n",
    "class_names = ['Check', 'Neutral', 'Schuss', 'Tor']\n",
    "\n",
    "model.eval()\n",
    "all_preds = []\n",
    "all_labels = []\n",
    "\n",
    "with torch.no_grad():\n",
    "    for frames, labels in val_loader:\n",
    "        frames = frames.to(device)\n",
    "        labels = labels.to(device)\n",
    "\n",
    "        outputs = model(frames)\n",
    "        predicted = (torch.sigmoid(outputs) > 0.5).int()\n",
    "\n",
    "        all_preds.append(predicted.cpu())\n",
    "        all_labels.append(labels.cpu().int())\n",
    "\n",
    "# Tensors stapeln\n",
    "all_preds = torch.cat(all_preds).numpy()  # Shape [N, 4]\n",
    "all_labels = torch.cat(all_labels).numpy()\n",
    "\n",
    "# Multilabel Confusion Matrix (eine 2x2-Matrix pro Klasse)\n",
    "mcm = multilabel_confusion_matrix(all_labels, all_preds)\n",
    "\n",
    "# Plot: jede Klasse einzeln anzeigen\n",
    "fig, axes = plt.subplots(2, 2, figsize=(10, 10))\n",
    "axes = axes.flatten()\n",
    "\n",
    "for i in range(len(class_names)):\n",
    "    ConfusionMatrixDisplay(\n",
    "        confusion_matrix=mcm[i],\n",
    "        display_labels=[f'not {class_names[i]}', class_names[i]]\n",
    "    ).plot(ax=axes[i], cmap='Blues', values_format='d')\n",
    "    axes[i].set_title(f\"Klasse: {class_names[i]}\")\n",
    "\n",
    "plt.tight_layout()\n",
    "plt.show()\n"
   ]
  },
  {
   "cell_type": "code",
   "execution_count": 8,
   "id": "18436fdd",
   "metadata": {},
   "outputs": [],
   "source": [
    "# --- Save Model ---\n",
    "torch.save(model.state_dict(), 'models/best_resnet34_lstm.pth')"
   ]
  }
 ],
 "metadata": {
  "kernelspec": {
   "display_name": "picture",
   "language": "python",
   "name": "python3"
  },
  "language_info": {
   "codemirror_mode": {
    "name": "ipython",
    "version": 3
   },
   "file_extension": ".py",
   "mimetype": "text/x-python",
   "name": "python",
   "nbconvert_exporter": "python",
   "pygments_lexer": "ipython3",
   "version": "3.9.21"
  }
 },
 "nbformat": 4,
 "nbformat_minor": 5
}
